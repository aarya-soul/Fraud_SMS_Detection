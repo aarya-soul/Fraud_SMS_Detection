{
 "cells": [
  {
   "cell_type": "code",
   "execution_count": 12,
   "id": "e5ef7d4b",
   "metadata": {},
   "outputs": [
    {
     "name": "stdout",
     "output_type": "stream",
     "text": [
      "Paste the Text Message : \n",
      "My Profile: https://auth.geeksforgeeks.org/user/Chinmoy%20Lenka/articles in the portal of http://www.geeksforgeeks.org/'\n",
      "Urls:  ['https://auth.geeksforgeeks.org/user/Chinmoy%20Lenka/articles', 'http://www.geeksforgeeks.org/']\n",
      "https://auth.geeksforgeeks.org/user/Chinmoy%20Lenka/articles\n",
      "You are not visiting a Malicious Website\n",
      "http://www.geeksforgeeks.org/\n",
      "You are not visiting a Malicious Website\n"
     ]
    }
   ],
   "source": [
    "import re\n",
    "\n",
    "def Find(string):\n",
    "    #findall() has been used with all the valid connections for url in a string\n",
    "    regex = r\"(?i)\\b((?:https?://|www\\d{0,3}[.]|[a-z0-9.\\-]+[.][a-z]{2,4}/)(?:[^\\s()<>]+|\\(([^\\s()<>]+|(\\([^\\s()<>]+\\)))*\\))+(?:\\(([^\\s()<>]+|(\\([^\\s()<>]+\\)))*\\)|[^\\s`!()\\[\\]{};:'\\\".,<>?«»“”‘’]))\"\n",
    "    url = re.findall(regex,string)      \n",
    "    return [x[0] for x in url]\n",
    "\n",
    "#Driver Code\n",
    "#string = 'My Profile: https://auth.geeksforgeeks.org/user/Chinmoy%20Lenka/articles in the portal of http://www.geeksforgeeks.org/'\n",
    "val = input(\"Paste the Text Message : \\n\");\n",
    "print(\"Urls: \", Find(val))\n",
    "\n",
    "from bs4 import BeautifulSoup as soup\n",
    "from urllib.request import urlopen as uReq\n",
    "\n",
    "for s in Find(val) :\n",
    "    print(s)\n",
    "    final_0 = s.replace('http://' , '')\n",
    "    #print(\"final_0\" + final_0)\n",
    "    final_1 = final_0.replace('https://' , '')\n",
    "    #print(\"final_1\" + final_1)\n",
    "    final = final_1.replace('www.' , '')\n",
    "    #print(\"final\" + final)\n",
    "    web_name = final\n",
    "    n_url = \"https://www.urlvoid.com/scan/\" + web_name + \"/\"\n",
    "    #print(n_url)\n",
    "\n",
    "    #opens the connection and downloads html page from url\n",
    "    uClient = uReq(n_url)\n",
    "    page_html = uClient.read()  #It is used for ofloading the data nto a variable \n",
    "\n",
    "    # parses html into a soup data structure to transverse html as if it were a json data type\n",
    "    page_soup = soup(page_html, \"html.parser\")\n",
    "    uClient.close()\n",
    "    #print(page_soup)\n",
    "\n",
    "    containers = page_soup.tbody\n",
    "    len(containers)\n",
    "\n",
    "    contain = containers.findAll(\"tr\")\n",
    "    len(contain)\n",
    "\n",
    "    data = contain[2].text\n",
    "    data\n",
    "\n",
    "    if data == \"Blacklist Status0/33\" :\n",
    "        print(\"You are not visiting a Malicious Website\")\n",
    "    else :\n",
    "        print(\"You are visiting a Malicious Website\")\n"
   ]
  },
  {
   "cell_type": "code",
   "execution_count": null,
   "id": "f390bd48",
   "metadata": {},
   "outputs": [],
   "source": []
  }
 ],
 "metadata": {
  "kernelspec": {
   "display_name": "Python 3 (ipykernel)",
   "language": "python",
   "name": "python3"
  },
  "language_info": {
   "codemirror_mode": {
    "name": "ipython",
    "version": 3
   },
   "file_extension": ".py",
   "mimetype": "text/x-python",
   "name": "python",
   "nbconvert_exporter": "python",
   "pygments_lexer": "ipython3",
   "version": "3.9.2"
  }
 },
 "nbformat": 4,
 "nbformat_minor": 5
}
